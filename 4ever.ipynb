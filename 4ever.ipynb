{
  "nbformat": 4,
  "nbformat_minor": 0,
  "metadata": {
    "colab": {
      "provenance": [],
      "authorship_tag": "ABX9TyP7ayp7YcGBp3qlqL63bL/J",
      "include_colab_link": true
    },
    "kernelspec": {
      "name": "python3",
      "display_name": "Python 3"
    },
    "language_info": {
      "name": "python"
    }
  },
  "cells": [
    {
      "cell_type": "markdown",
      "metadata": {
        "id": "view-in-github",
        "colab_type": "text"
      },
      "source": [
        "<a href=\"https://colab.research.google.com/github/swathikapendala/BATCH-11/blob/main/4ever.ipynb\" target=\"_parent\"><img src=\"https://colab.research.google.com/assets/colab-badge.svg\" alt=\"Open In Colab\"/></a>"
      ]
    },
    {
      "cell_type": "code",
      "execution_count": 2,
      "metadata": {
        "colab": {
          "base_uri": "https://localhost:8080/"
        },
        "id": "Irp0HUMT9NzK",
        "outputId": "4731ed01-90bc-4edd-b3d8-0c8064bfe024"
      },
      "outputs": [
        {
          "output_type": "stream",
          "name": "stdout",
          "text": [
            "['apple', 'banana', 'cherry', 'orange']\n"
          ]
        }
      ],
      "source": [
        "fruits = [\"apple\", \"banana\", \"cherry\", \"orange\"]\n",
        "print(fruits)"
      ]
    },
    {
      "cell_type": "code",
      "source": [
        "import pandas as pd\n",
        "data = {\n",
        "    'Name': ['vhyshu', 'Bunny', 'Chintuu','manoj'],\n",
        "    'Age': [19, 19, 20,20],\n",
        "    'place': ['jgl', 'jgl', 'dhrm','dhrm']\n",
        "}\n",
        "df = pd.DataFrame(data)\n",
        "print(df)"
      ],
      "metadata": {
        "id": "RrX7_lrDABIo",
        "outputId": "7f6d296d-c836-4d1e-c793-37206182802c",
        "colab": {
          "base_uri": "https://localhost:8080/"
        }
      },
      "execution_count": 1,
      "outputs": [
        {
          "output_type": "stream",
          "name": "stdout",
          "text": [
            "      Name  Age place\n",
            "0   vhyshu   19   jgl\n",
            "1    Bunny   19   jgl\n",
            "2  Chintuu   20  dhrm\n",
            "3    manoj   20  dhrm\n"
          ]
        }
      ]
    }
  ]
}